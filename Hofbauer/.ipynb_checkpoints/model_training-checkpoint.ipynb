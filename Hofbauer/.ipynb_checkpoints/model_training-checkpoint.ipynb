{
 "cells": [
  {
   "cell_type": "markdown",
   "id": "790e11fa-8519-438d-873c-2b2464bc2ffd",
   "metadata": {},
   "source": [
    "# Model Training"
   ]
  },
  {
   "cell_type": "markdown",
   "id": "13f7f335-8e03-4fba-ae52-84ccf280debd",
   "metadata": {},
   "source": [
    "## Import"
   ]
  },
  {
   "cell_type": "code",
   "execution_count": 1,
   "id": "8d535af1-d0d7-4622-926f-50ea83e7a6b2",
   "metadata": {},
   "outputs": [],
   "source": [
    "import torch\n",
    "import torch.nn as nn\n",
    "import numpy as np\n",
    "import pandas as pd\n",
    "import matplotlib.pyplot as plt\n",
    "from sklearn.linear_model import LinearRegression\n",
    "from sklearn.metrics import mean_squared_error\n",
    "from tqdm import tqdm\n",
    "from torchvision import transforms\n",
    "import torch.optim as optim\n",
    "import os\n",
    "\n",
    "\n",
    "import utils\n",
    "from dataloader import CustomDataloader\n",
    "import networks"
   ]
  },
  {
   "cell_type": "markdown",
   "id": "f9a17b48-22c4-45aa-af7b-d1400fe4e023",
   "metadata": {},
   "source": [
    "## Model One"
   ]
  },
  {
   "cell_type": "markdown",
   "id": "aea73b56-62ed-4d63-ad42-38dbe6b5c0d1",
   "metadata": {},
   "source": [
    "#### Importing Data"
   ]
  },
  {
   "cell_type": "code",
   "execution_count": 8,
   "id": "1958b88b-310f-4ae0-aff8-0a1b94c94cf8",
   "metadata": {},
   "outputs": [],
   "source": [
    "# load data\n",
    "data_dict = torch.load('data/UTKFace_processed.pt')\n",
    "x_train, y_train,x_val,y_val,x_test,y_test = data_dict['x_train'], data_dict['y_train'], data_dict['x_val'], data_dict['y_val'], data_dict['x_test'], data_dict['y_test']"
   ]
  },
  {
   "cell_type": "markdown",
   "id": "0330bf3f-e6d6-4b8d-b72c-ae96206413e9",
   "metadata": {},
   "source": [
    "#### Training Model"
   ]
  },
  {
   "cell_type": "code",
   "execution_count": 9,
   "id": "53842558-fdb3-48f2-9b36-7064f949393a",
   "metadata": {},
   "outputs": [
    {
     "name": "stdout",
     "output_type": "stream",
     "text": [
      "Mean Squared Error: 67.1891860961914\n"
     ]
    }
   ],
   "source": [
    "model_one = LinearRegression()\n",
    "model_one.fit(x_train, y_train)\n",
    "model_one_predict = model_one.predict(x_test)\n",
    "loss_one = mean_squared_error(y_test, model_one_predict)\n",
    "print(f'Mean Squared Error: {loss_one}')"
   ]
  },
  {
   "cell_type": "code",
   "execution_count": 12,
   "id": "08c33c29-6439-4466-aec4-8121f2819c2a",
   "metadata": {},
   "outputs": [],
   "source": [
    "model_one = {\n",
    "    'model_1_predict': model_1_predict,\n",
    "    'y_test': y_test,\n",
    "}\n",
    "# Save the outputs to a file\n",
    "torch.save(model_one, 'data/model_checkpoints/model_one.pt')"
   ]
  },
  {
   "cell_type": "markdown",
   "id": "8e648fd6-9bfc-4b83-8075-490d5daa2f47",
   "metadata": {},
   "source": [
    "## Model Two"
   ]
  },
  {
   "cell_type": "markdown",
   "id": "614649ba-4553-49fe-80e3-773c6dfb0593",
   "metadata": {},
   "source": [
    "#### Importing Data"
   ]
  },
  {
   "cell_type": "code",
   "execution_count": 2,
   "id": "24654bc8-c6cf-46c2-9196-c3666f094360",
   "metadata": {},
   "outputs": [],
   "source": [
    "# load data\n",
    "data_dict = torch.load('data/filename_splits.pt')\n",
    "\n",
    "# instantiate your dataloaders\n",
    "train_dataloader = CustomDataloader(data_dict['x_train'],data_dict['y_train'], batch_size = 64, image_mode=True,image_dir=\"data/images\")\n",
    "val_dataloader = CustomDataloader(data_dict['x_val'],data_dict['y_val'], batch_size = 64, image_mode=True,image_dir=\"data/images\")\n",
    "test_dataloader = CustomDataloader(data_dict['x_test'],data_dict['y_test'], batch_size = 64, image_mode=True,image_dir=\"data/images\")"
   ]
  },
  {
   "cell_type": "markdown",
   "id": "4a82a4b8-fc57-4598-a5ba-346dd2e753c0",
   "metadata": {},
   "source": [
    "#### Training Model"
   ]
  },
  {
   "cell_type": "code",
   "execution_count": null,
   "id": "0a4ccba3-14a1-4f56-a7a7-05555bfd9373",
   "metadata": {},
   "outputs": [
    {
     "name": "stderr",
     "output_type": "stream",
     "text": [
      "  0%|                                                                                           | 0/50 [00:00<?, ?it/s]C:\\Users\\maxim\\Documents\\School\\ECEGR4750\\.venv\\Lib\\site-packages\\torch\\nn\\modules\\loss.py:535: UserWarning: Using a target size (torch.Size([64, 1])) that is different to the input size (torch.Size([64, 32])). This will likely lead to incorrect results due to broadcasting. Please ensure they have the same size.\n",
      "  return F.mse_loss(input, target, reduction=self.reduction)\n",
      "C:\\Users\\maxim\\Documents\\School\\ECEGR4750\\.venv\\Lib\\site-packages\\torch\\nn\\modules\\loss.py:535: UserWarning: Using a target size (torch.Size([16, 1])) that is different to the input size (torch.Size([16, 32])). This will likely lead to incorrect results due to broadcasting. Please ensure they have the same size.\n",
      "  return F.mse_loss(input, target, reduction=self.reduction)\n",
      "C:\\Users\\maxim\\Documents\\School\\ECEGR4750\\.venv\\Lib\\site-packages\\torch\\nn\\modules\\loss.py:535: UserWarning: Using a target size (torch.Size([6, 1])) that is different to the input size (torch.Size([6, 32])). This will likely lead to incorrect results due to broadcasting. Please ensure they have the same size.\n",
      "  return F.mse_loss(input, target, reduction=self.reduction)\n",
      "  2%|█▋                                                                                 | 1/50 [00:31<25:44, 31.52s/it]"
     ]
    }
   ],
   "source": [
    "# instantiate your model with the correct inputs and outputs, and a reasonable hidden dim\n",
    "model = networks.AgeCNN(32)\n",
    "\n",
    "# instantiate your optimizer\n",
    "optimizer = torch.optim.Adam(model.parameters(), lr=1e-4)\n",
    "\n",
    "# log your losses\n",
    "train_losses = []\n",
    "val_losses = []\n",
    "\n",
    "# define how many updates to your model\n",
    "epochs = 50\n",
    "\n",
    "# define your loss function for regression\n",
    "loss_fn = torch.nn.MSELoss()\n",
    "\n",
    "# Set the file path for saving the model checkpoints\n",
    "checkpoint_path = \"data/model_checkpoints/model_2_checkpoint.pth\"\n",
    "\n",
    "for epoch in tqdm(range(epochs)):\n",
    "    losses = []\n",
    "    for _ in range(train_dataloader.num_batches_per_epoch):\n",
    "        optimizer.zero_grad()\n",
    "        train_batch = train_dataloader.fetch_batch()\n",
    "\n",
    "        # Convert the list of tensors to a single tensor\n",
    "        x_batch = torch.stack(train_batch['x_batch'])\n",
    "\n",
    "        # Forward pass\n",
    "        yhat = model(x_batch)\n",
    "\n",
    "        # Assuming y_batch is a tensor\n",
    "        train_loss = loss_fn(yhat, train_batch['y_batch'].view(-1, 1).float())\n",
    "\n",
    "        # Backward pass and optimization step\n",
    "        train_loss.backward()\n",
    "        optimizer.step()\n",
    "        losses.append(train_loss.item())\n",
    "    train_losses.append(np.mean(losses))\n",
    "\n",
    "    losses = []\n",
    "    for _ in range(val_dataloader.num_batches_per_epoch):\n",
    "        val_batch = val_dataloader.fetch_batch()\n",
    "\n",
    "        # Convert the list of tensors to a single tensor\n",
    "        x_batch = torch.stack(val_batch['x_batch'])\n",
    "\n",
    "        # Forward pass\n",
    "        yhat = model(x_batch)\n",
    "\n",
    "        # Assuming y_batch is a tensor\n",
    "        val_loss = loss_fn(yhat, val_batch['y_batch'].view(-1, 1).float())\n",
    "        losses.append(val_loss.item())\n",
    "    val_losses.append(np.mean(losses))\n",
    "\n",
    "    # Save model checkpoint\n",
    "    checkpoint = {\n",
    "        'epoch': epoch,\n",
    "        'model_state_dict': model.state_dict(),\n",
    "        'optimizer_state_dict': optimizer.state_dict(),\n",
    "        'train_loss': train_losses[-1],\n",
    "        'val_loss': val_losses[-1]\n",
    "    }\n",
    "    torch.save(checkpoint, checkpoint_path)"
   ]
  },
  {
   "cell_type": "markdown",
   "id": "d2b2a7c3-1f1a-4aec-80bc-961b0b7d2422",
   "metadata": {},
   "source": [
    "#### Plotting Loss"
   ]
  },
  {
   "cell_type": "code",
   "execution_count": null,
   "id": "431823de-cc03-4686-becb-3f81cdaf6ec0",
   "metadata": {},
   "outputs": [],
   "source": [
    "import matplotlib.pyplot as plt\n",
    "\n",
    "plt.figure(0, figsize = (12,6))\n",
    "plt.title('Loss per epoch')\n",
    "plt.xlabel('Epoch')\n",
    "plt.ylabel('Loss')\n",
    "plt.plot(train_losses)\n",
    "plt.plot(val_losses)\n",
    "plt.legend([\"Training loss\",\"Validation loss\"])"
   ]
  }
 ],
 "metadata": {
  "kernelspec": {
   "display_name": "Python 3 (ipykernel)",
   "language": "python",
   "name": "python3"
  },
  "language_info": {
   "codemirror_mode": {
    "name": "ipython",
    "version": 3
   },
   "file_extension": ".py",
   "mimetype": "text/x-python",
   "name": "python",
   "nbconvert_exporter": "python",
   "pygments_lexer": "ipython3",
   "version": "3.11.6"
  }
 },
 "nbformat": 4,
 "nbformat_minor": 5
}
